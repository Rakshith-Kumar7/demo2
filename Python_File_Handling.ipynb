{
  "nbformat": 4,
  "nbformat_minor": 0,
  "metadata": {
    "colab": {
      "name": "Python File Handling.ipynb",
      "provenance": [],
      "toc_visible": true
    },
    "kernelspec": {
      "name": "python3",
      "display_name": "Python 3"
    },
    "language_info": {
      "name": "python"
    }
  },
  "cells": [
    {
      "cell_type": "markdown",
      "source": [
        "# **File handling in python**\n",
        "\n",
        "- creating, reading, updating, and deleting files"
      ],
      "metadata": {
        "id": "MYlv0i43rXfo"
      }
    },
    {
      "cell_type": "markdown",
      "source": [
        "### **Open**\n",
        "\n",
        "- takes two parameters; filename, and mode.\n",
        "\n",
        "- There are four different methods (modes) for opening a file:\n",
        "  - \"r\" - Read - Default value. If the file does not exists, raises I/O error\n",
        "\n",
        "  - \"r+\"- Read and Write \n",
        "\n",
        "  - \"a\" - Append\n",
        "\n",
        "  - \"a+\" Append and Read\n",
        "\n",
        "  - \"w\" - Write \n",
        "\n",
        "  - \"w+\" - Write and Read\n",
        "\n",
        "  - \"x\" - Create \n",
        "\n",
        "- if the file should be handled as binary or text mode\n",
        "  - \"t\" - Text\n",
        "  - \"b\" - Binary"
      ],
      "metadata": {
        "id": "jKzC-dP1USNG"
      }
    },
    {
      "cell_type": "code",
      "source": [
        "# f= open('File_handling.txt','r+') # r+ means read and write\n",
        "f= open('File_handling.txt','rt')"
      ],
      "metadata": {
        "id": "HFIy-pXWURv8"
      },
      "execution_count": null,
      "outputs": []
    },
    {
      "cell_type": "code",
      "source": [
        "f.read()"
      ],
      "metadata": {
        "id": "qgfe-nvIgVlL",
        "colab": {
          "base_uri": "https://localhost:8080/",
          "height": 53
        },
        "outputId": "04345bd7-9498-4889-f6a0-802a99ada27d"
      },
      "execution_count": null,
      "outputs": [
        {
          "output_type": "execute_result",
          "data": {
            "text/plain": [
              "'This is third week of python.\\nYesterday we learend loops.\\nToday we learned functions.\\nNow we are learning file handling.'"
            ],
            "application/vnd.google.colaboratory.intrinsic+json": {
              "type": "string"
            }
          },
          "metadata": {},
          "execution_count": 4
        }
      ]
    },
    {
      "cell_type": "markdown",
      "source": [
        "## Reading from file"
      ],
      "metadata": {
        "id": "yJp4DOjzUVXS"
      }
    },
    {
      "cell_type": "code",
      "source": [
        "f= open('File_handling.txt','r')"
      ],
      "metadata": {
        "id": "kKfxK1HUURpA"
      },
      "execution_count": null,
      "outputs": []
    },
    {
      "cell_type": "code",
      "source": [
        "print(f.read()) # Reads the whole file at once"
      ],
      "metadata": {
        "id": "wo_R2H4dURm6",
        "colab": {
          "base_uri": "https://localhost:8080/"
        },
        "outputId": "d8061177-b9c3-4de4-b264-d708a0ccc4c4"
      },
      "execution_count": null,
      "outputs": [
        {
          "output_type": "stream",
          "name": "stdout",
          "text": [
            "\n"
          ]
        }
      ]
    },
    {
      "cell_type": "code",
      "source": [
        "print(f.read(5)) # only read first 5 character"
      ],
      "metadata": {
        "colab": {
          "base_uri": "https://localhost:8080/"
        },
        "id": "hOMwWpz-XvJI",
        "outputId": "cb7c55d1-cf54-492a-a0c5-0b4e14acdfe3"
      },
      "execution_count": null,
      "outputs": [
        {
          "output_type": "stream",
          "name": "stdout",
          "text": [
            "This \n"
          ]
        }
      ]
    },
    {
      "cell_type": "code",
      "source": [
        "f.readline() # one line by using the readline()"
      ],
      "metadata": {
        "colab": {
          "base_uri": "https://localhost:8080/",
          "height": 35
        },
        "id": "3UVvwmypURkW",
        "outputId": "545ce500-c5e0-4b94-9a23-4531dc137936"
      },
      "execution_count": null,
      "outputs": [
        {
          "output_type": "execute_result",
          "data": {
            "text/plain": [
              "'This is third week of python.\\n'"
            ],
            "application/vnd.google.colaboratory.intrinsic+json": {
              "type": "string"
            }
          },
          "metadata": {},
          "execution_count": 18
        }
      ]
    },
    {
      "cell_type": "code",
      "source": [
        "print(f.readline()) # one line by using the readline()\n",
        "print(f.readline()) # one line by using the readline() so total two lines"
      ],
      "metadata": {
        "colab": {
          "base_uri": "https://localhost:8080/"
        },
        "id": "92RhygCpYMPn",
        "outputId": "67dafea0-3784-4fc2-e41a-b5238727461e"
      },
      "execution_count": null,
      "outputs": [
        {
          "output_type": "stream",
          "name": "stdout",
          "text": [
            "Today we learned functions.\n",
            "\n",
            "Now we are learning file handling.\n"
          ]
        }
      ]
    },
    {
      "cell_type": "code",
      "source": [
        "print(f.readlines()) # Reads all the lines and return them as each line a string element in a list."
      ],
      "metadata": {
        "colab": {
          "base_uri": "https://localhost:8080/"
        },
        "id": "rxIwsN5ve1qm",
        "outputId": "ad62c99c-d332-4494-f90b-6333516cd6c7"
      },
      "execution_count": null,
      "outputs": [
        {
          "output_type": "stream",
          "name": "stdout",
          "text": [
            "['This is third week of python.\\n', 'Yesterday we learend loops.\\n', 'Today we learned functions.\\n', 'Now we are learning file handling.']\n"
          ]
        }
      ]
    },
    {
      "cell_type": "code",
      "source": [
        "# How can we read all lines\n"
      ],
      "metadata": {
        "id": "DzhxhzWqYg3n"
      },
      "execution_count": null,
      "outputs": []
    },
    {
      "cell_type": "code",
      "source": [
        "f= open('File_handling.txt','rt')\n",
        "lines= f.readlines()"
      ],
      "metadata": {
        "id": "6iUvPZNLURhr"
      },
      "execution_count": null,
      "outputs": []
    },
    {
      "cell_type": "code",
      "source": [
        "lines[0:4]"
      ],
      "metadata": {
        "id": "EesVaYpqnXZ0"
      },
      "execution_count": null,
      "outputs": []
    },
    {
      "cell_type": "markdown",
      "source": [
        "### **Close**\n",
        "\n",
        "- good practice to always close the file when you are done with it"
      ],
      "metadata": {
        "id": "deipEhKzZI1g"
      }
    },
    {
      "cell_type": "code",
      "source": [
        "f= open('File_handling.txt','rt')\n",
        "print(f.readline())\n",
        "# f.close()"
      ],
      "metadata": {
        "id": "mf8mssbpZf0d"
      },
      "execution_count": null,
      "outputs": []
    },
    {
      "cell_type": "code",
      "source": [
        "print(f.readline())"
      ],
      "metadata": {
        "id": "L7dZjum4Z0jH"
      },
      "execution_count": null,
      "outputs": []
    },
    {
      "cell_type": "markdown",
      "source": [
        "### **Write to an existing file**\n",
        "\n",
        "- \"a\" - Append - will append to the end of the file\n",
        "- \"w\" - Write - will overwrite any existing content"
      ],
      "metadata": {
        "id": "3J_oF5G5aIWX"
      }
    },
    {
      "cell_type": "code",
      "source": [
        "f= open('File_handling2.txt','a') # append content in the file\n",
        "f.write(\"Adding a new line in python file\")\n",
        "f.close()"
      ],
      "metadata": {
        "id": "yLt3bCO_afS9"
      },
      "execution_count": null,
      "outputs": []
    },
    {
      "cell_type": "code",
      "source": [
        "f= open('File_handling2.txt','a') # append content in the file\n",
        "L = [\"This is line one \\n\",\"This is line 2 \\n\",\"This is line 3 \\n\"] \n",
        "f.writelines(L) # help to add multiple lines\n",
        "f.close()"
      ],
      "metadata": {
        "id": "kEYzd7YZft-e"
      },
      "execution_count": null,
      "outputs": []
    },
    {
      "cell_type": "code",
      "source": [
        "f= open('File_handling2.txt','r') # append content in the file\n",
        "print(f.read())"
      ],
      "metadata": {
        "colab": {
          "base_uri": "https://localhost:8080/"
        },
        "id": "Q6BdvBwZbRSe",
        "outputId": "efba1753-60ab-4835-931e-80a7f96eeb94"
      },
      "execution_count": null,
      "outputs": [
        {
          "output_type": "stream",
          "name": "stdout",
          "text": [
            "I have deleted the content!This is line one \n",
            "This is line 2 \n",
            "This is line 3 \n",
            "\n"
          ]
        }
      ]
    },
    {
      "cell_type": "code",
      "source": [
        "f = open(\"File_handling2.txt\", \"w\")\n",
        "f.write(\"I have deleted the content!\")\n",
        "f.close()\n",
        "\n"
      ],
      "metadata": {
        "id": "gBuSe_MPbit2"
      },
      "execution_count": null,
      "outputs": []
    },
    {
      "cell_type": "code",
      "source": [
        "#open and read the file after the appending:\n",
        "f = open(\"File_handling2.txt\", \"r\")\n",
        "print(f.read())"
      ],
      "metadata": {
        "colab": {
          "base_uri": "https://localhost:8080/"
        },
        "id": "FtcsjYRqblum",
        "outputId": "087ac538-cd57-41a3-8fb4-3ecd8af67606"
      },
      "execution_count": null,
      "outputs": [
        {
          "output_type": "stream",
          "name": "stdout",
          "text": [
            "I have deleted the content!\n"
          ]
        }
      ]
    },
    {
      "cell_type": "markdown",
      "source": [
        "### **Creating a new file**\n",
        "\n",
        " - \"x\" - Create - will create a file, returns an error if the file exist\n",
        "\n",
        "- \"a\" - Append - will create a file if the specified file does not exist\n",
        "\n",
        "- \"w\" - Write - will create a file if the specified file does not exist"
      ],
      "metadata": {
        "id": "o2J_5a5-UZlc"
      }
    },
    {
      "cell_type": "code",
      "source": [
        "f = open(\"myfile.txt\", \"x\")"
      ],
      "metadata": {
        "id": "SZUhrBuTdFFN"
      },
      "execution_count": null,
      "outputs": []
    },
    {
      "cell_type": "code",
      "source": [
        "print(f.read())"
      ],
      "metadata": {
        "id": "6cT60kTMdMFl"
      },
      "execution_count": null,
      "outputs": []
    },
    {
      "cell_type": "code",
      "source": [
        "# Create a new file if it does not exist:\n",
        "f = open(\"myfile.txt\", \"w\")\n",
        "print(f.read())"
      ],
      "metadata": {
        "id": "8l47PODpURVx"
      },
      "execution_count": null,
      "outputs": []
    },
    {
      "cell_type": "markdown",
      "source": [
        "### **Delete** \n",
        "\n",
        "- import the OS module, and run its os.remove() function:"
      ],
      "metadata": {
        "id": "mBEmyQW_chLb"
      }
    },
    {
      "cell_type": "code",
      "source": [
        "import os\n",
        "os.remove(\"demofile.txt\")"
      ],
      "metadata": {
        "id": "IA0nSpz_crlB"
      },
      "execution_count": null,
      "outputs": []
    },
    {
      "cell_type": "code",
      "source": [
        "import os\n",
        "if os.path.exists(\"myfile.txt\"):\n",
        "  os.remove(\"myfile.txt\")\n",
        "else:\n",
        "  print(\"The file does not exist\")"
      ],
      "metadata": {
        "colab": {
          "base_uri": "https://localhost:8080/"
        },
        "id": "QI7CEYgrdfUt",
        "outputId": "416594ff-4e1b-4ca1-ecf4-1e7933a9ed3e"
      },
      "execution_count": null,
      "outputs": [
        {
          "output_type": "stream",
          "name": "stdout",
          "text": [
            "The file does not exist\n"
          ]
        }
      ]
    }
  ]
}