{
  "cells": [
    {
      "cell_type": "markdown",
      "id": "13d5020b",
      "metadata": {
        "id": "13d5020b"
      },
      "source": [
        "# Lambda function"
      ]
    },
    {
      "cell_type": "markdown",
      "id": "a1380aa3",
      "metadata": {
        "id": "a1380aa3"
      },
      "source": [
        "- known as anonymous function as defined without name\n",
        "- can accept any number of arguments, but expression has only one value"
      ]
    },
    {
      "cell_type": "markdown",
      "id": "d5b29d5d",
      "metadata": {
        "id": "d5b29d5d"
      },
      "source": [
        "### Syntax\n",
        "\n",
        "**lambda** arguments: expression"
      ]
    },
    {
      "cell_type": "code",
      "execution_count": null,
      "id": "7d9db896",
      "metadata": {
        "id": "7d9db896"
      },
      "outputs": [],
      "source": [
        "def plus_age(age):\n",
        "    return age + 10"
      ]
    },
    {
      "cell_type": "code",
      "execution_count": null,
      "id": "07241f60",
      "metadata": {
        "colab": {
          "base_uri": "https://localhost:8080/"
        },
        "id": "07241f60",
        "outputId": "7968acd2-ca5a-4d8c-ed85-3089b8d8ec22"
      },
      "outputs": [
        {
          "output_type": "execute_result",
          "data": {
            "text/plain": [
              "35"
            ]
          },
          "metadata": {},
          "execution_count": 3
        }
      ],
      "source": [
        "plus_age(25)"
      ]
    },
    {
      "cell_type": "code",
      "execution_count": null,
      "id": "9c20e2f2",
      "metadata": {
        "colab": {
          "base_uri": "https://localhost:8080/"
        },
        "id": "9c20e2f2",
        "outputId": "3952312d-a6ff-4e9f-ca7d-2dfcff4dd03d"
      },
      "outputs": [
        {
          "output_type": "stream",
          "name": "stdout",
          "text": [
            "age =  35\n"
          ]
        }
      ],
      "source": [
        "# age is an argument and age +10 is an expression which got evaluated and returned.    \n",
        "first_lam_fun = lambda age:age + 10\n",
        "\n",
        "# Here we are printing the function object  \n",
        "print(\"age = \", first_lam_fun(25))"
      ]
    },
    {
      "cell_type": "code",
      "execution_count": null,
      "id": "12f55672",
      "metadata": {
        "colab": {
          "base_uri": "https://localhost:8080/"
        },
        "id": "12f55672",
        "outputId": "fc1ca38a-70a9-4928-d60e-edf75333d069"
      },
      "outputs": [
        {
          "output_type": "stream",
          "name": "stdout",
          "text": [
            "8\n"
          ]
        }
      ],
      "source": [
        "\n",
        "# Example of lambda function using if-else\n",
        "greater = lambda a, b : a if(a > b) else b\n",
        " \n",
        "print(greater(8, 6))"
      ]
    },
    {
      "cell_type": "markdown",
      "id": "de8218ff",
      "metadata": {
        "id": "de8218ff"
      },
      "source": [
        "### With filter"
      ]
    },
    {
      "cell_type": "code",
      "execution_count": 1,
      "id": "38fddea0",
      "metadata": {
        "colab": {
          "base_uri": "https://localhost:8080/"
        },
        "id": "38fddea0",
        "outputId": "c126239b-a927-4d04-c401-989f51c4fbf3"
      },
      "outputs": [
        {
          "output_type": "stream",
          "name": "stdout",
          "text": [
            "[25, 65, 82]\n"
          ]
        }
      ],
      "source": [
        "# Python code to illustrate\n",
        "# filter() with lambda()\n",
        "age = [25, 65, 82, 41, 33]\n",
        " \n",
        "greater_60 = list(filter(lambda x: (x > 60) or (x < 30), age))\n",
        "print(greater_60)"
      ]
    },
    {
      "cell_type": "code",
      "execution_count": 2,
      "id": "4a18f13e",
      "metadata": {
        "id": "4a18f13e",
        "outputId": "62d93fba-f8e9-4670-cb1c-57edf0d9b724",
        "colab": {
          "base_uri": "https://localhost:8080/"
        }
      },
      "outputs": [
        {
          "output_type": "execute_result",
          "data": {
            "text/plain": [
              "3"
            ]
          },
          "metadata": {},
          "execution_count": 2
        }
      ],
      "source": [
        "len(greater_60)"
      ]
    },
    {
      "cell_type": "code",
      "source": [
        "gender = [\"M\", \"F\", \"F\", \"M\"]"
      ],
      "metadata": {
        "id": "9MZ_s9dOegNt"
      },
      "id": "9MZ_s9dOegNt",
      "execution_count": 5,
      "outputs": []
    },
    {
      "cell_type": "code",
      "execution_count": null,
      "id": "2e9f40d3",
      "metadata": {
        "id": "2e9f40d3"
      },
      "outputs": [],
      "source": [
        "# Python code to illustrate\n",
        "# filter() with lambda()\n",
        "\n",
        "Male = list(filter(lambda x: (x == \"M\"), gender))\n",
        "print(Male)"
      ]
    },
    {
      "cell_type": "markdown",
      "id": "043fc029",
      "metadata": {
        "id": "043fc029"
      },
      "source": [
        "### map()\n"
      ]
    },
    {
      "cell_type": "code",
      "execution_count": null,
      "id": "a15df66c",
      "metadata": {
        "id": "a15df66c"
      },
      "outputs": [],
      "source": [
        "# kg in pound.\n",
        "weight_pounds = [173, 152, 205, 119, 250]\n",
        " \n",
        "weight_kg = list(map(lambda x: x/2.2, weight_pounds))\n",
        "print(weight_kg)"
      ]
    },
    {
      "cell_type": "code",
      "execution_count": null,
      "id": "3e869ef4",
      "metadata": {
        "id": "3e869ef4"
      },
      "outputs": [],
      "source": [
        "# kg in pound.\n",
        "weight_pounds = [173, 152, 205, 119, 250]\n",
        " \n",
        "weight_kg = list(map(lambda x: round(x/2.2, 2), weight_pounds))\n",
        "print(weight_kg)"
      ]
    },
    {
      "cell_type": "markdown",
      "id": "078232a4",
      "metadata": {
        "id": "078232a4"
      },
      "source": [
        "### reduce()\n",
        "\n",
        "- useful when you need to apply a function to an iterable and reduce it to a single cumulative value.\n",
        "\n"
      ]
    },
    {
      "cell_type": "code",
      "execution_count": null,
      "id": "d773eb48",
      "metadata": {
        "id": "d773eb48"
      },
      "outputs": [],
      "source": [
        "# importing functools for reduce()\n",
        "import functools\n",
        " \n",
        "# initializing list\n",
        "weight_pounds = [173, 152, 205, 119, 250]\n",
        " \n",
        "# using reduce to compute maximum element from list\n",
        "print (\"The maximum element of the list is : \",end=\"\")\n",
        "print (functools.reduce(lambda a,b : a if a < b else b, weight_pounds))"
      ]
    },
    {
      "cell_type": "code",
      "source": [
        "weight_pounds = [173, 152, 205, 119, 250, 125]\n",
        "W = 0\n",
        "for i in weight_pounds:\n",
        "  if i > W:\n",
        "    W = i\n",
        "print(W)\n"
      ],
      "metadata": {
        "id": "lUi3jeDEyBzW"
      },
      "id": "lUi3jeDEyBzW",
      "execution_count": null,
      "outputs": []
    },
    {
      "cell_type": "code",
      "source": [
        "# Count how many times a specific number is present\n",
        "list1 = [45, 52, 55, 55, 76, 76, 55, 86, 92]\n",
        "value = 55\n",
        "Count_55 = 0\n",
        "for i in list1:\n",
        "  if (list1[i] == value):\n",
        "    Count_55 = Count_55 + 1\n",
        "print(Count_55)"
      ],
      "metadata": {
        "id": "nJrqF5DYhQhK"
      },
      "id": "nJrqF5DYhQhK",
      "execution_count": null,
      "outputs": []
    }
  ],
  "metadata": {
    "kernelspec": {
      "display_name": "Python 3 (ipykernel)",
      "language": "python",
      "name": "python3"
    },
    "language_info": {
      "codemirror_mode": {
        "name": "ipython",
        "version": 3
      },
      "file_extension": ".py",
      "mimetype": "text/x-python",
      "name": "python",
      "nbconvert_exporter": "python",
      "pygments_lexer": "ipython3",
      "version": "3.9.7"
    },
    "colab": {
      "name": "Lambda_Function.ipynb",
      "provenance": [],
      "toc_visible": true
    }
  },
  "nbformat": 4,
  "nbformat_minor": 5
}